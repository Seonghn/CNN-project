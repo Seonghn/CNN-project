{
 "cells": [
  {
   "cell_type": "code",
   "execution_count": 3,
   "metadata": {},
   "outputs": [],
   "source": [
    "import cv2\n",
    "import numpy as np\n",
    "\n",
    "image = cv2.imread(\"C:/Users/password - 1234/Desktop/KakaoTalk_20200424_132832625.jpg\", cv2.IMREAD_UNCHANGED)\n",
    "cv2.imshow(\"SH\", image)\n",
    "cv2.waitKey(0)\n",
    "cv2.destroyAllWindows()"
   ]
  },
  {
   "cell_type": "code",
   "execution_count": 2,
   "metadata": {},
   "outputs": [],
   "source": [
    "import cv2\n",
    "import sys\n",
    "import math\n",
    "import cv2 as cv\n",
    "import numpy as np\n",
    " \n",
    "cap = cv2.VideoCapture(\"C:/Users/password - 1234/Downloads/video2.mp4\")\n",
    " \n",
    "while (True):\n",
    "    ret, src = cap.read()\n",
    " \n",
    "    src = cv2.resize(src, (640, 360))\n",
    " \n",
    "    dst = cv.Canny(src, 50, 200, None, 3)\n",
    " \n",
    "    cdst = cv.cvtColor(dst, cv.COLOR_GRAY2BGR)\n",
    "    cdstP = np.copy(cdst)\n",
    " \n",
    "    lines = cv.HoughLines(dst, 1, np.pi / 180, 150, None, 0, 0)\n",
    " \n",
    "    if lines is not None:\n",
    "        for i in range(0, len(lines)):\n",
    "            rho = lines[i][0][0]\n",
    "            theta = lines[i][0][1]\n",
    "            a = math.cos(theta)\n",
    "            b = math.sin(theta)\n",
    "            x0 = a * rho\n",
    "            y0 = b * rho\n",
    "            pt1 = (int(x0 + 1000 * (-b)), int(y0 + 1000 * (a)))\n",
    "            pt2 = (int(x0 - 1000 * (-b)), int(y0 - 1000 * (a)))\n",
    "            cv.line(cdst, pt1, pt2, (0, 0, 255), 3, cv.LINE_AA)\n",
    " \n",
    "    linesP = cv.HoughLinesP(dst, 1, np.pi / 180, 50, None, 50, 10)\n",
    " \n",
    "    if linesP is not None:\n",
    "        for i in range(0, len(linesP)):\n",
    "            l = linesP[i][0]\n",
    "            cv.line(cdstP, (l[0], l[1]), (l[2], l[3]), (0, 0, 255), 3, cv.LINE_AA)\n",
    " \n",
    "    cv.imshow(\"Source\", src)\n",
    "    cv.imshow(\"Detected Lines (in red) - Standard Hough Line Transform\", cdst)\n",
    "    cv.imshow(\"Detected Lines (in red) - Probabilistic Line Transform\", cdstP)\n",
    " \n",
    "    if cv2.waitKey(1) & 0xFF == ord('q'):\n",
    "        break\n",
    " \n",
    "cap.release()\n",
    "cv2.destroyAllWindows()"
   ]
  },
  {
   "cell_type": "code",
   "execution_count": null,
   "metadata": {},
   "outputs": [],
   "source": []
  },
  {
   "cell_type": "code",
   "execution_count": null,
   "metadata": {},
   "outputs": [],
   "source": []
  }
 ],
 "metadata": {
  "kernelspec": {
   "display_name": "Python 3",
   "language": "python",
   "name": "python3"
  },
  "language_info": {
   "codemirror_mode": {
    "name": "ipython",
    "version": 3
   },
   "file_extension": ".py",
   "mimetype": "text/x-python",
   "name": "python",
   "nbconvert_exporter": "python",
   "pygments_lexer": "ipython3",
   "version": "3.7.6"
  }
 },
 "nbformat": 4,
 "nbformat_minor": 4
}
